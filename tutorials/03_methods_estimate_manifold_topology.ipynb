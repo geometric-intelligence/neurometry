{
 "cells": [
  {
   "cell_type": "markdown",
   "id": "375efb56-36f0-4af0-92f3-4e4663ad9b91",
   "metadata": {
    "tags": []
   },
   "source": [
    "# Estimate Neural Topology"
   ]
  },
  {
   "cell_type": "markdown",
   "id": "1ff5d6ed",
   "metadata": {},
   "source": [
    "## Set Up + Imports"
   ]
  },
  {
   "cell_type": "code",
   "execution_count": null,
   "id": "a46009c1",
   "metadata": {},
   "outputs": [],
   "source": [
    "import setup\n",
    "\n",
    "import os\n",
    "\n",
    "import matplotlib.pyplot as plt\n",
    "import numpy as np\n",
    "\n",
    "os.environ[\"GEOMSTATS_BACKEND\"] = \"pytorch\"\n",
    "import geomstats.backend as gs\n",
    "import neurometry.datasets.synthetic as synthetic\n",
    "\n",
    "from neurometry.estimators.topology.topology_classifier import TopologyClassifier\n",
    "\n",
    "setup.main()\n",
    "%load_ext autoreload\n",
    "%autoreload 2\n",
    "%load_ext jupyter_black\n",
    "\n",
    "import plotly.graph_objects as go\n",
    "from gtda.plotting import plot_diagram, plot_heatmap"
   ]
  },
  {
   "cell_type": "markdown",
   "id": "fd9148db",
   "metadata": {},
   "source": [
    "## Classify neural manifold as circle, sphere, torus, or none"
   ]
  },
  {
   "cell_type": "markdown",
   "id": "3d837dd0",
   "metadata": {},
   "source": [
    "### Create example torus point cloud"
   ]
  },
  {
   "cell_type": "code",
   "execution_count": 13,
   "id": "65817c15",
   "metadata": {},
   "outputs": [],
   "source": [
    "num_points = 500\n",
    "encoding_dim = 10\n",
    "fano_factor = 0.1\n",
    "\n",
    "\n",
    "test_task_points, _ = synthetic.hypertorus(2, num_points)\n",
    "test_noisy_points, _ = synthetic.synthetic_neural_manifold(\n",
    "    points=test_task_points,\n",
    "    encoding_dim=encoding_dim,\n",
    "    nonlinearity=\"sigmoid\",\n",
    "    scales=5 * gs.random.rand(encoding_dim),\n",
    "    fano_factor=fano_factor,\n",
    ")"
   ]
  },
  {
   "cell_type": "markdown",
   "id": "48ced06c",
   "metadata": {},
   "source": [
    "### Fit `TopologyClassifier`"
   ]
  },
  {
   "cell_type": "code",
   "execution_count": null,
   "id": "7da97bf0",
   "metadata": {},
   "outputs": [],
   "source": [
    "num_samples = 100\n",
    "homology_dimensions = (0, 1, 2, 3)\n",
    "\n",
    "TC = TopologyClassifier(\n",
    "    num_samples=num_samples,\n",
    "    fano_factor=fano_factor,\n",
    "    homology_dimensions=homology_dimensions,\n",
    "    reduce_dim=True,\n",
    ")\n",
    "TC.fit(test_noisy_points)"
   ]
  },
  {
   "cell_type": "code",
   "execution_count": null,
   "id": "151ebc31",
   "metadata": {},
   "outputs": [],
   "source": [
    "prediction = TC.predict(test_noisy_points)"
   ]
  },
  {
   "cell_type": "code",
   "execution_count": null,
   "id": "aa0bb016",
   "metadata": {},
   "outputs": [],
   "source": [
    "def plot_topo_feature_space(self):\n",
    "    \"\"\"Plot the topological feature space of the reference data.\"\"\"\n",
    "    import plotly.graph_objects as go\n",
    "\n",
    "    color_map = {\n",
    "        0: \"black\",\n",
    "        1: \"red\",\n",
    "        2: \"blue\",\n",
    "        3: \"green\",\n",
    "    }\n",
    "    names = {0: \"null\", 1: \"circle\", 2: \"sphere\", 3: \"torus\"}\n",
    "\n",
    "    fig = go.Figure()\n",
    "\n",
    "    for label in np.unique(self.ref_labels):\n",
    "        mask = self.ref_labels == label\n",
    "        fig.add_trace(\n",
    "            go.Scatter3d(\n",
    "                x=self.ref_features[mask, 1],\n",
    "                y=self.ref_features[mask, 2],\n",
    "                z=self.ref_features[mask, 3],\n",
    "                mode=\"markers\",\n",
    "                name=names[label],\n",
    "                marker=dict(size=3, color=color_map[label]),\n",
    "            )\n",
    "        )\n",
    "\n",
    "    fig.add_trace(\n",
    "        go.Scatter3d(\n",
    "            x=self.features[:, 1],\n",
    "            y=self.features[:, 2],\n",
    "            z=self.features[:, 3],\n",
    "            mode=\"markers\",\n",
    "            name=\"Input data\",\n",
    "            marker=dict(size=5, color=\"orange\"),\n",
    "        )\n",
    "    )\n",
    "    fig.show()\n",
    "\n",
    "\n",
    "plot_topo_feature_space(TC)"
   ]
  },
  {
   "cell_type": "code",
   "execution_count": null,
   "id": "2fabf3b3",
   "metadata": {},
   "outputs": [],
   "source": [
    "TC.plot_topo_feature_space()"
   ]
  },
  {
   "cell_type": "markdown",
   "id": "bc0955ec-59c8-4030-8286-6cf165a02973",
   "metadata": {
    "tags": []
   },
   "source": [
    "## Persistence homology for synthetic sphere, torus point clouds"
   ]
  },
  {
   "cell_type": "markdown",
   "id": "d8c7fb83",
   "metadata": {},
   "source": [
    "### Plot point clouds"
   ]
  },
  {
   "cell_type": "markdown",
   "id": "ef72fe47",
   "metadata": {},
   "source": [
    "## Compute Topological Distance between Persistence Diagrams"
   ]
  },
  {
   "cell_type": "markdown",
   "id": "e45d85c9",
   "metadata": {},
   "source": [
    "Create torus point clouds with varying levels of noise"
   ]
  },
  {
   "cell_type": "code",
   "execution_count": 62,
   "id": "0b7c3b25",
   "metadata": {},
   "outputs": [],
   "source": [
    "num_points = 500\n",
    "encoding_dim = 10\n",
    "fano_factors = np.linspace(0.1, 2, 20)\n",
    "\n",
    "tori = []\n",
    "\n",
    "scales = 5 * gs.random.rand(encoding_dim)\n",
    "\n",
    "for fano_factor in fano_factors:\n",
    "    test_task_points = synthetic.hypertorus(2, num_points)\n",
    "    test_noisy_points, _ = synthetic.synthetic_neural_manifold(\n",
    "        points=test_task_points,\n",
    "        encoding_dim=encoding_dim,\n",
    "        nonlinearity=\"sigmoid\",\n",
    "        scales=scales,\n",
    "        fano_factor=fano_factor,\n",
    "    )\n",
    "    tori.append(test_noisy_points)"
   ]
  },
  {
   "cell_type": "markdown",
   "id": "1e53abf5",
   "metadata": {},
   "source": [
    "Compute persistence diagrams for tori and compute pairwise landscape distance"
   ]
  },
  {
   "cell_type": "code",
   "execution_count": 74,
   "id": "e5c425f6",
   "metadata": {},
   "outputs": [],
   "source": [
    "from gtda.diagrams import PairwiseDistance\n",
    "from neurometry.estimators.topology.topology_classifier import (\n",
    "    compute_persistence_diagrams,\n",
    ")\n",
    "\n",
    "diagrams = compute_persistence_diagrams(tori)\n",
    "PD = PairwiseDistance(metric=\"landscape\")\n",
    "distances = PD.fit_transform(diagrams)"
   ]
  },
  {
   "cell_type": "code",
   "execution_count": null,
   "id": "dab50d59",
   "metadata": {},
   "outputs": [],
   "source": [
    "distances"
   ]
  },
  {
   "cell_type": "code",
   "execution_count": null,
   "id": "1a1bc59b",
   "metadata": {},
   "outputs": [],
   "source": [
    "plt.scatter(fano_factors, distances[0, :], label=\"0D\")\n",
    "plt.xscale(\"log\")\n",
    "plt.yscale(\"log\")\n",
    "plt.xlabel(\"Noise Variance\")\n",
    "plt.ylabel(\"Bottleneck Distance to Original Torus\")\n",
    "\n",
    "plt.grid()"
   ]
  },
  {
   "cell_type": "code",
   "execution_count": null,
   "id": "efbd5ab1",
   "metadata": {},
   "outputs": [],
   "source": [
    "plot_heatmap(distance, colorscale=\"blues\")"
   ]
  },
  {
   "cell_type": "code",
   "execution_count": null,
   "id": "823a0d87",
   "metadata": {},
   "outputs": [],
   "source": [
    "# diagram_0 = persistent_homology.compute_persistence_diagrams(\n",
    "#     torus_0, maxdim=2, n_threads=-1\n",
    "# )\n",
    "\n",
    "# diagram_1 = persistent_homology.compute_persistence_diagrams(\n",
    "#     torus_1, maxdim=2, n_threads=-1\n",
    "# )"
   ]
  },
  {
   "cell_type": "markdown",
   "id": "fee00317-7da7-4698-a689-e17f92755716",
   "metadata": {
    "tags": []
   },
   "source": [
    "## Persistence homology for place cell data"
   ]
  },
  {
   "cell_type": "markdown",
   "id": "2bd5cd03-70c5-48f9-9711-393f06e3c224",
   "metadata": {
    "tags": []
   },
   "source": [
    "### Load place cell data \n",
    "\n",
    "From Ravikrishnan P Jayakumar, Manu S Madhav, Francesco Savelli, Hugh T Blair, Noah J Cowan, and James J Knierim. Recalibration of path integration in hippocampal place cells. Nature, 566(7745):533–537, 2019."
   ]
  },
  {
   "cell_type": "code",
   "execution_count": null,
   "id": "174e9a78-80d3-4440-bb91-6d2d5f5addc9",
   "metadata": {
    "tags": []
   },
   "outputs": [],
   "source": [
    "expt_id = 34\n",
    "timestep = int(1e6)\n",
    "\n",
    "dataset, labels = experimental.load_neural_activity(\n",
    "    expt_id=expt_id, timestep_microsec=timestep\n",
    ")\n",
    "dataset = dataset[labels[\"velocities\"] > 5]\n",
    "labels = labels[labels[\"velocities\"] > 5]\n",
    "dataset = np.log(dataset.astype(np.float32) + 1)\n",
    "dataset.shape"
   ]
  },
  {
   "cell_type": "markdown",
   "id": "795171be-bb1a-46aa-95f0-89bb7f0c3d4f",
   "metadata": {
    "tags": []
   },
   "source": [
    "### Persistence diagrams for place cell data"
   ]
  },
  {
   "cell_type": "code",
   "execution_count": null,
   "id": "e89a5fa0-1816-44ee-8f28-8719ce7b646a",
   "metadata": {},
   "outputs": [],
   "source": [
    "place_cell_diagrams = compute_persistence_diagrams(dataset, maxdim=2, n_threads=-1)\n",
    "plot_persistence_diagrams(place_cell_diagrams)"
   ]
  },
  {
   "cell_type": "markdown",
   "id": "cb5725a2-750d-4663-bfa8-cf2687966234",
   "metadata": {
    "tags": []
   },
   "source": [
    "## Synthetic Grid cell data"
   ]
  },
  {
   "cell_type": "markdown",
   "id": "a84a86eb-0293-4900-a413-7696abf97dbe",
   "metadata": {},
   "source": [
    "### Generate synthetic grid cell data + compute persistence diagrams"
   ]
  },
  {
   "cell_type": "markdown",
   "id": "3ebef170-6ea7-4c68-bb4e-6afc8d6d10f4",
   "metadata": {},
   "source": [
    "Orientation variability = 0"
   ]
  },
  {
   "cell_type": "code",
   "execution_count": null,
   "id": "e7084c77-6d8a-48b4-b555-e034577df970",
   "metadata": {
    "tags": []
   },
   "outputs": [],
   "source": [
    "grid_scale = 1\n",
    "arena_dims = np.array([4, 4])\n",
    "n_cells = 256\n",
    "grid_orientation_mean = 0\n",
    "grid_orientation_std = 0\n",
    "\n",
    "field_width = 0.05\n",
    "resolution = 50\n",
    "\n",
    "neural_activity, _ = gridcells.load_grid_cells_synthetic(\n",
    "    grid_scale,\n",
    "    arena_dims,\n",
    "    n_cells,\n",
    "    grid_orientation_mean,\n",
    "    grid_orientation_std,\n",
    "    field_width,\n",
    "    resolution,\n",
    ")\n",
    "print(\"shape of neural activity matrix: \" + str(neural_activity.shape))"
   ]
  },
  {
   "cell_type": "code",
   "execution_count": null,
   "id": "b6394d55-4e61-4f01-b0a8-a2f54957f529",
   "metadata": {},
   "outputs": [],
   "source": [
    "diagrams = compute_persistence_diagrams(neural_activity, maxdim=2, n_threads=-1)\n",
    "plot_persistence_diagrams(diagrams)"
   ]
  },
  {
   "cell_type": "markdown",
   "id": "40d713d8-0275-4900-8701-82941e8710e9",
   "metadata": {},
   "source": [
    "#### Orientation variability > 0"
   ]
  },
  {
   "cell_type": "code",
   "execution_count": null,
   "id": "005b056d-683b-4ca9-8b57-ae67c6f70944",
   "metadata": {},
   "outputs": [],
   "source": [
    "grid_scale = 1\n",
    "arena_dims = np.array([4, 4])\n",
    "n_cells = 256\n",
    "grid_orientation_mean = 0\n",
    "grid_orientation_std = 3\n",
    "\n",
    "field_width = 0.05\n",
    "resolution = 50\n",
    "\n",
    "neural_activity, _ = gridcells.load_grid_cells_synthetic(\n",
    "    grid_scale,\n",
    "    arena_dims,\n",
    "    n_cells,\n",
    "    grid_orientation_mean,\n",
    "    grid_orientation_std,\n",
    "    field_width,\n",
    "    resolution,\n",
    ")\n",
    "print(\"shape of neural activity matrix: \" + str(neural_activity.shape))"
   ]
  },
  {
   "cell_type": "markdown",
   "id": "88866a97",
   "metadata": {},
   "source": [
    "## Shuffle Data and plot diagrams"
   ]
  },
  {
   "cell_type": "code",
   "execution_count": null,
   "id": "dd16d020",
   "metadata": {},
   "outputs": [],
   "source": [
    "import os\n",
    "\n",
    "os.environ[\"GEOMSTATS_BACKEND\"] = \"pytorch\"\n",
    "import geomstats.backend as gs\n",
    "\n",
    "import neurometry.datasets.synthetic as synthetic\n",
    "\n",
    "task_points, _ = synthetic.hypersphere(1, 1000)\n",
    "noisy_points, manifold_points = synthetic.synthetic_neural_manifold(\n",
    "    points=task_points,\n",
    "    encoding_dim=3,\n",
    "    nonlinearity=\"sigmoid\",\n",
    "    scales=gs.array([1, 1, 1]),\n",
    "    poisson_multiplier=100,\n",
    ")"
   ]
  },
  {
   "cell_type": "code",
   "execution_count": null,
   "id": "874bd10a",
   "metadata": {},
   "outputs": [],
   "source": [
    "!pip install dreimac"
   ]
  },
  {
   "cell_type": "code",
   "execution_count": null,
   "id": "2ecb451f",
   "metadata": {},
   "outputs": [],
   "source": [
    "from dreimac import CircularCoords\n",
    "from persim import plot_diagrams\n",
    "\n",
    "# prepare plot with 4 subplots\n",
    "f, (a0, a1, a2, a3) = plt.subplots(1, 4, width_ratios=[1, 1, 1, 0.2], figsize=(14, 3))\n",
    "\n",
    "\n",
    "# plot the persistence diagram, showing a single prominent class\n",
    "cc = CircularCoords(X, n_landmarks=200)\n",
    "plot_diagrams(cc._dgms, title=\"Persistence diagram\", ax=a1)\n",
    "\n",
    "# plot the data colored by the circle-valued map constructed by DREiMac\n",
    "circular_coordinates = cc.get_coordinates()\n",
    "a2.scatter(X[:, 0], X[:, 1], c=circular_coordinates, s=10, cmap=\"viridis\")\n",
    "a2.set_title(\"Input colored by circular coordinate\")\n",
    "a2.axis(\"off\")\n",
    "a2.set_aspect(\"equal\")\n",
    "\n",
    "# plot colorbar\n",
    "img = a3.imshow([[0, 1]], cmap=\"viridis\")\n",
    "a3.set_visible(False)\n",
    "cb = plt.colorbar(mappable=img, ticks=[0, 0.5, 1])\n",
    "_ = cb.ax.set_yticklabels([\"0\", \"180\", \"360\"])"
   ]
  },
  {
   "cell_type": "code",
   "execution_count": null,
   "id": "38ebb291",
   "metadata": {},
   "outputs": [],
   "source": [
    "# plot in 3d\n",
    "fig = go.Figure()\n",
    "fig.add_trace(\n",
    "    go.Scatter3d(\n",
    "        x=task_points[:, 0],\n",
    "        y=task_points[:, 1],\n",
    "        z=noisy_points[:, 2],\n",
    "        mode=\"markers\",\n",
    "        marker=dict(size=3),\n",
    "    )\n",
    ")\n",
    "fig.show()"
   ]
  },
  {
   "cell_type": "code",
   "execution_count": null,
   "id": "c8210194",
   "metadata": {},
   "outputs": [],
   "source": [
    "X = noisy_points\n",
    "\n",
    "\n",
    "def shuffle_entries(data):\n",
    "    # Shuffle each row's entries independently\n",
    "    shuffled_data = np.apply_along_axis(np.random.permutation, 1, data)\n",
    "    return shuffled_data\n",
    "\n",
    "\n",
    "X_shuffled_1 = shuffle_entries(X)\n",
    "X_shuffled_2 = shuffle_entries(X)\n",
    "\n",
    "fig = go.Figure()\n",
    "fig.add_trace(\n",
    "    go.Scatter3d(\n",
    "        x=X_shuffled_1[:, 0],\n",
    "        y=X_shuffled_1[:, 1],\n",
    "        z=X_shuffled_1[:, 2],\n",
    "        mode=\"markers\",\n",
    "        marker=dict(size=3),\n",
    "    )\n",
    ")\n",
    "\n",
    "fig.add_trace(\n",
    "    go.Scatter3d(\n",
    "        x=X_shuffled_2[:, 0],\n",
    "        y=X_shuffled_2[:, 1],\n",
    "        z=X_shuffled_2[:, 2],\n",
    "        mode=\"markers\",\n",
    "        marker=dict(size=3),\n",
    "    )\n",
    ")"
   ]
  },
  {
   "cell_type": "code",
   "execution_count": null,
   "id": "c64bdf1a",
   "metadata": {},
   "outputs": [],
   "source": [
    "rng = np.random.default_rng()\n",
    "\n",
    "# n_permutations = 10\n",
    "\n",
    "X_shuff_1 = rng.permutation(X, axis=0)\n",
    "X_shuff_2 = rng.permutation(X, axis=0)\n",
    "\n",
    "fig = go.Figure()\n",
    "fig.add_trace(\n",
    "    go.Scatter3d(\n",
    "        x=X_shuff_1[:, 0],\n",
    "        y=X_shuff_1[:, 1],\n",
    "        z=X_shuff_1[:, 2],\n",
    "        mode=\"markers\",\n",
    "        marker=dict(size=3),\n",
    "    )\n",
    ")\n",
    "\n",
    "fig.add_trace(\n",
    "    go.Scatter3d(\n",
    "        x=X_shuff_2[:, 0],\n",
    "        y=X_shuff_2[:, 1],\n",
    "        z=X_shuff_2[:, 2],\n",
    "        mode=\"markers\",\n",
    "        marker=dict(size=3),\n",
    "    )\n",
    ")"
   ]
  },
  {
   "cell_type": "code",
   "execution_count": null,
   "id": "596234bd",
   "metadata": {},
   "outputs": [],
   "source": [
    "from neurometry.datasets.synthetic import hypertorus, synthetic_neural_manifold\n",
    "\n",
    "num_points = 1000\n",
    "intrinsic_dim = 2\n",
    "encoding_dim = 1000\n",
    "\n",
    "torus_points = hypertorus(intrinsic_dim, num_points)\n",
    "\n",
    "noisy, manifold = synthetic_neural_manifold(torus_points, encoding_dim, \"linear\")"
   ]
  },
  {
   "cell_type": "code",
   "execution_count": null,
   "id": "b32ab473",
   "metadata": {},
   "outputs": [],
   "source": [
    "print(manifold.shape)\n",
    "\n",
    "from neurometry.topology.persistent_homology import compute_persistence_diagrams\n",
    "\n",
    "diagrams = compute_persistence_diagrams([manifold])\n",
    "\n",
    "plot_diagram(diagrams[0], homology_dimensions=(0, 1, 2))"
   ]
  },
  {
   "cell_type": "code",
   "execution_count": null,
   "id": "165700d1",
   "metadata": {},
   "outputs": [],
   "source": [
    "transposed_manifold = manifold.T\n",
    "print(transposed_manifold.shape)\n",
    "transposed_diagrams = compute_persistence_diagrams([transposed_manifold])\n",
    "\n",
    "plot_diagram(transposed_diagrams[0], homology_dimensions=(0, 1, 2))"
   ]
  },
  {
   "cell_type": "code",
   "execution_count": null,
   "id": "ae84fc1a",
   "metadata": {},
   "outputs": [],
   "source": [
    "from sklearn.decomposition import PCA\n",
    "\n",
    "pca = PCA(n_components=10)\n",
    "pca_manifold = pca.fit_transform(manifold)\n",
    "\n",
    "pca_diagrams = compute_persistence_diagrams([pca_manifold])\n",
    "\n",
    "plot_diagram(pca_diagrams[0], homology_dimensions=(0, 1, 2))"
   ]
  },
  {
   "cell_type": "code",
   "execution_count": null,
   "id": "4fb5eb01",
   "metadata": {},
   "outputs": [],
   "source": [
    "pca_transposed_manifold = pca.fit_transform(transposed_manifold)\n",
    "\n",
    "pca_transposed_diagrams = compute_persistence_diagrams([pca_transposed_manifold])\n",
    "\n",
    "plot_diagram(pca_transposed_diagrams[0], homology_dimensions=(0, 1, 2))"
   ]
  },
  {
   "cell_type": "code",
   "execution_count": null,
   "id": "2f1ca640",
   "metadata": {},
   "outputs": [],
   "source": []
  }
 ],
 "metadata": {
  "kernelspec": {
   "display_name": "neurometry",
   "language": "python",
   "name": "python3"
  },
  "language_info": {
   "codemirror_mode": {
    "name": "ipython",
    "version": 3
   },
   "file_extension": ".py",
   "mimetype": "text/x-python",
   "name": "python",
   "nbconvert_exporter": "python",
   "pygments_lexer": "ipython3",
   "version": "3.11.3"
  },
  "toc-autonumbering": false,
  "toc-showcode": false,
  "toc-showmarkdowntxt": false,
  "toc-showtags": false
 },
 "nbformat": 4,
 "nbformat_minor": 5
}
