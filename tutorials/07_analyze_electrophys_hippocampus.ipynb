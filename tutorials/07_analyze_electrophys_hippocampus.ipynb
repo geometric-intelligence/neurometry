{
 "cells": [
  {
   "cell_type": "markdown",
   "metadata": {},
   "source": [
    "# Analyze Electrophysiological Recordings of Rodent Hippocampus\n",
    "\n",
    "We would like to thank James Knierim, Noah Cowan and Ravikrishnan Jayakumar at Johns Hopkins University for providing experimental data. The rodent place cell data analyzed in this tutorial was collected in the Knierim and Cowan labs by R. Jayakumar and M. Madhav."
   ]
  },
  {
   "cell_type": "markdown",
   "metadata": {},
   "source": []
  }
 ],
 "metadata": {
  "language_info": {
   "name": "python"
  }
 },
 "nbformat": 4,
 "nbformat_minor": 2
}
